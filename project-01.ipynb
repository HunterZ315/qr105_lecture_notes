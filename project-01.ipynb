{
  "cells": [
    {
      "cell_type": "markdown",
      "id": "9496b0d9-98ae-42cd-a2cb-1184cf4e95f2",
      "metadata": {
        "id": "9496b0d9-98ae-42cd-a2cb-1184cf4e95f2"
      },
      "source": [
        "# Project 1: Creating TTRPG Tools"
      ]
    },
    {
      "cell_type": "code",
      "execution_count": null,
      "id": "588c0854-ea4b-464b-9cb1-b72323c071c9",
      "metadata": {
        "id": "588c0854-ea4b-464b-9cb1-b72323c071c9"
      },
      "outputs": [],
      "source": [
        "# Provide a brief summary of the project in your own words"
      ]
    },
    {
      "cell_type": "code",
      "execution_count": null,
      "id": "c6cd2f7a-b0ec-46ac-b492-5926a093a244",
      "metadata": {
        "id": "c6cd2f7a-b0ec-46ac-b492-5926a093a244",
        "outputId": "de0bee97-e19c-4be2-82b1-c81d0156193e",
        "colab": {
          "base_uri": "https://localhost:8080/"
        }
      },
      "outputs": [
        {
          "output_type": "stream",
          "name": "stdout",
          "text": [
            "\n",
            "    PIGEON ELEVEN\n",
            "Gang of Dangerous Pigeons\n",
            "\n",
            "Choose your role in this dangerous gang to pull off difficult heist, and become the most notorius pigeon gang\n",
            "In this 4 player RPG game, each user will select a unique role in order to succeed in variest heist\n"
          ]
        }
      ],
      "source": [
        "header_string = '''\n",
        "    PIGEON ELEVEN\n",
        "Gang of Dangerous Pigeons\n",
        "'''\n",
        "print(header_string)\n",
        "\n",
        "print('Choose your role in this dangerous gang to pull off difficult heist, and become the most notorius pigeon gang')\n",
        "print('In this 4 player RPG game, each user will select a unique role in order to succeed in variest heist')"
      ]
    },
    {
      "cell_type": "markdown",
      "id": "6680210f-f9a2-4b10-993b-63f53162e55c",
      "metadata": {
        "id": "6680210f-f9a2-4b10-993b-63f53162e55c"
      },
      "source": [
        "## I. Introduction"
      ]
    },
    {
      "cell_type": "code",
      "execution_count": null,
      "id": "d9f1d29d-e584-4cb9-b7c1-f4887d201dd4",
      "metadata": {
        "id": "d9f1d29d-e584-4cb9-b7c1-f4887d201dd4"
      },
      "outputs": [],
      "source": [
        "# Explain the theme of your game.\n",
        "\n",
        "# Discuss any details you find interesting or fun\n",
        "\n"
      ]
    },
    {
      "cell_type": "code",
      "execution_count": null,
      "id": "00b61e1f-6e9c-4e66-99a4-6bce02484e81",
      "metadata": {
        "id": "00b61e1f-6e9c-4e66-99a4-6bce02484e81"
      },
      "outputs": [],
      "source": []
    },
    {
      "cell_type": "code",
      "execution_count": null,
      "id": "74bf62fb-d752-4dcd-9f01-009699f326f5",
      "metadata": {
        "id": "74bf62fb-d752-4dcd-9f01-009699f326f5"
      },
      "outputs": [],
      "source": []
    },
    {
      "cell_type": "markdown",
      "id": "141c8b7b-eaa8-4d78-a33f-0656d178483d",
      "metadata": {
        "id": "141c8b7b-eaa8-4d78-a33f-0656d178483d"
      },
      "source": [
        "## II. Character Generation"
      ]
    },
    {
      "cell_type": "code",
      "execution_count": null,
      "id": "e19ffd1c-0d17-4cc1-8e20-455fc27d7ca1",
      "metadata": {
        "id": "e19ffd1c-0d17-4cc1-8e20-455fc27d7ca1"
      },
      "outputs": [],
      "source": [
        "# this is where you should place all cells that contain code or markdown\n",
        "# having to do with generating a character\n",
        "\n"
      ]
    },
    {
      "cell_type": "code",
      "execution_count": 215,
      "id": "d4b8e18a-ecae-4080-8e43-71c6fb4801e8",
      "metadata": {
        "id": "d4b8e18a-ecae-4080-8e43-71c6fb4801e8",
        "outputId": "95e5093c-510b-4fd6-f630-6ff11eea2ff5",
        "colab": {
          "base_uri": "https://localhost:8080/"
        }
      },
      "outputs": [
        {
          "output_type": "stream",
          "name": "stdout",
          "text": [
            "Mistwing Moonfeather\n"
          ]
        }
      ],
      "source": [
        "# Lists of possible name components\n",
        "import random\n",
        "\n",
        "bird_first_names = ['Featherclaw', 'Talona', 'Skystrike', 'Perchblade', 'Winglock', 'Ashwings', 'Quickflight', 'Stormfeather', 'Hawkstrike', 'Windshadow',\n",
        "    'Cloudsong', 'Ravenwing', 'Glimmerbeak', 'Swiftflap', 'Frostwing','Emberfeather', 'Thundershadow', 'Darkflap', 'Mistwing', 'Cinderclaw']\n",
        "bird_last_names = ['Ravenhart', 'Stormwing', 'Ironbeak', 'Shadowfeather', 'Blazetail', 'Nightwing', 'Ashbeak', 'Flameclaw', 'Darkstorm', 'Silverstrike',\n",
        "    'Windshard', 'Blacksong', 'Moonfeather', 'Shadowsworn', 'Ironfury', 'Emberclaw', 'Lightningbeak', 'Frostheart', 'Windwhisper', 'Ghostwing']\n",
        "\n",
        "# # Function to generate a random name\n",
        "# random_first_name = random.choice(bird_first_names)\n",
        "# random_last_name = random.choice(bird_last_names)\n",
        "\n",
        "# # Combine the names to create a full character name\n",
        "# character_name = random_first_name + \" \" + random_last_name\n",
        "# print(character_name)\n"
      ]
    },
    {
      "cell_type": "code",
      "execution_count": 268,
      "id": "d5105437-d09f-4a95-8561-4d2ffa0cd078",
      "metadata": {
        "id": "d5105437-d09f-4a95-8561-4d2ffa0cd078",
        "outputId": "e8a7a755-95d8-445c-8214-e09d1c2676a7",
        "colab": {
          "base_uri": "https://localhost:8080/"
        }
      },
      "outputs": [
        {
          "output_type": "stream",
          "name": "stdout",
          "text": [
            "\n",
            "    |-------------------|\n",
            "    |Your Character Name|\n",
            "    |-------------------|\n",
            "\n",
            "Your name is Glimmerbeak Emberclaw\n"
          ]
        }
      ],
      "source": [
        "header_string = '''\n",
        "    |-------------------|\n",
        "    |Your Character Name|\n",
        "    |-------------------|\n",
        "'''\n",
        "print(header_string)\n",
        "def generate_character_name():\n",
        "    random_first_name = random.choice(bird_first_names)\n",
        "    random_last_name = random.choice(bird_last_names)\n",
        "    return random_first_name + \" \" + random_last_name\n",
        "\n",
        "# Combine the names to create a full character name\n",
        "character_name = generate_character_name()\n",
        "print(f'Your name is {character_name}')"
      ]
    },
    {
      "cell_type": "markdown",
      "id": "b771b28e-21d8-40df-925c-8706161eeecc",
      "metadata": {
        "id": "b771b28e-21d8-40df-925c-8706161eeecc"
      },
      "source": [
        "## III. Quest Generation"
      ]
    },
    {
      "cell_type": "code",
      "execution_count": null,
      "id": "b5b87bcf-e30c-4cf5-858d-b3700bcf0d98",
      "metadata": {
        "id": "b5b87bcf-e30c-4cf5-858d-b3700bcf0d98"
      },
      "outputs": [],
      "source": [
        "# this is where you should place all cells that contain code or markdown\n",
        "# having to do with generating a quest prompt\n"
      ]
    },
    {
      "cell_type": "code",
      "execution_count": 49,
      "id": "960502ad-90f6-45af-a349-38a095cce1e3",
      "metadata": {
        "id": "960502ad-90f6-45af-a349-38a095cce1e3",
        "outputId": "79d60ca1-d293-420b-ef39-6926523e4f36",
        "colab": {
          "base_uri": "https://localhost:8080/"
        }
      },
      "outputs": [
        {
          "output_type": "stream",
          "name": "stdout",
          "text": [
            "Your mission is to loot the bird seeds from the chicken coop, but there are electric fences. If successful, you will receive yoour initiation.\n"
          ]
        }
      ],
      "source": [
        "\n",
        "import random\n",
        "\n",
        "objectives = ['steal farm supplies', 'loot the bird seeds', 'rob the farm owner', 'steal shiny objects', 'steal money', 'swipe valuable equipment']\n",
        "locations = ['ranch', 'farmland', 'chicken coop', 'house', 'truck', 'barn','grain silo', 'garden shed',]\n",
        "obstacles = ['dangerous farm owners','lazer traps', 'security cameras', 'watch dogs', 'decoys', 'electric fences', 'barbed wire']\n",
        "rewards = ['bird food', 'yoour initiation', 'a new birdhouse', '$100,000', '10,000 xp', 'new wing accessories']\n",
        "\n",
        "# Function to generate a random quest\n",
        "def generate_quest():\n",
        "    objective = random.choice(objectives)\n",
        "    location = random.choice(locations)\n",
        "    obstacle = random.choice(obstacles)\n",
        "    reward = random.choice(rewards)\n",
        "\n",
        "    quest = f\"Your mission is to {objective} from the {location}, but there are {obstacle}. If successful, you will receive {reward}.\"\n",
        "    return quest\n",
        "\n",
        "# Example of calling the function\n",
        "quest = generate_quest()\n",
        "print(quest)"
      ]
    },
    {
      "cell_type": "code",
      "execution_count": 53,
      "id": "997a1371-5520-404a-8eb4-77fe24c761aa",
      "metadata": {
        "id": "997a1371-5520-404a-8eb4-77fe24c761aa",
        "outputId": "9b2c5ba3-384a-4c75-c314-17e909c308b7",
        "colab": {
          "base_uri": "https://localhost:8080/"
        }
      },
      "outputs": [
        {
          "output_type": "stream",
          "name": "stdout",
          "text": [
            "\n",
            "Choose Your Role\n",
            "\n",
            "Role Selection: \"The Pro, Securities expert\", \"The Grease Man, Enter and Exit strategist\", \"The Muscle, Brute force >>\", \"The High Roller, Stealthy, Decieve, or Charm your enermy\"\n"
          ]
        }
      ],
      "source": [
        "header_string = '''\n",
        "Choose Your Role\n",
        "'''\n",
        "print(header_string)\n",
        "\n",
        "print(f'Role Selection: \"The Pro, Securities expert\", \"The Grease Man, Enter and Exit strategist\", \"The Muscle, Brute force >>\", \"The High Roller, Stealthy, Decieve, or Charm your enermy\"')\n"
      ]
    },
    {
      "cell_type": "code",
      "execution_count": 233,
      "id": "4485c859-4cd6-485e-8f54-e7d7f263a5fb",
      "metadata": {
        "id": "4485c859-4cd6-485e-8f54-e7d7f263a5fb",
        "outputId": "f0fc3666-9cea-4439-a9d6-120303aa8c45",
        "colab": {
          "base_uri": "https://localhost:8080/"
        }
      },
      "outputs": [
        {
          "output_type": "stream",
          "name": "stdout",
          "text": [
            "\n",
            "Player 1\n",
            "----------\n",
            "\n",
            "Mistwing Moonfeather\n",
            "-------------------------\n",
            "Your Role\n",
            "Role: The Pro, ({'dice_type': 'd4', 'advantages': 'Quick Reflexes, Enhanced Perception, Stealth Mastery'})\n"
          ]
        }
      ],
      "source": [
        "header_string = '''\n",
        "Player 1\n",
        "----------\n",
        "'''\n",
        "print(header_string)\n",
        "import random\n",
        "print(f'{character_name}')\n",
        "print('-------------------------')\n",
        "\n",
        "print('Your Role')\n",
        "import random\n",
        "\n",
        "roles = roles = {\n",
        "    \"The Pro\": {\n",
        "        \"dice_type\": \"d4\",\n",
        "        \"advantages\": 'Quick Reflexes, Enhanced Perception, Stealth Mastery'\n",
        "    },\n",
        "    \"The Grease Man\": {\n",
        "        \"dice_type\": \"d6\",\n",
        "        \"advantages\": 'Mechanical Genius, Tinkering Master, Stealth Movement'\n",
        "    },\n",
        "    \"The Muscle\": {\n",
        "        \"dice_type\": \"d8\",\n",
        "        \"advantages\": 'Strength Boost, Intimidation, Heavy Lifting'\n",
        "    },\n",
        "    \"The High Roller\": {\n",
        "        \"dice_type\": \"d10\",\n",
        "        \"advantages\": 'Luck Manipulation, Charisma Boost, Negotiation Skills'\n",
        "    }\n",
        "}\n",
        "def random_role():\n",
        "    role, dice_type = random.choice(list(roles.items()))\n",
        "    return role, dice_type\n",
        "role, dice_type = random_role()\n",
        "print(f\"Role: {role}, ({dice_type})\")\n",
        "\n"
      ]
    },
    {
      "cell_type": "code",
      "source": [
        "\n",
        "import random\n",
        "\n",
        "\n",
        "header_string = '''\n",
        "Player 1\n",
        "----------\n",
        "'''\n",
        "print(header_string)\n",
        "\n",
        "\n",
        "roles = {\n",
        "    \"The Pro\": {\n",
        "        \"dice_type\": \"d4\",\n",
        "        \"advantages\": [\"Quick Reflexes\", \"Enhanced Perception\", \"Stealth Mastery\"]\n",
        "    },\n",
        "    \"The Grease Man\": {\n",
        "        \"dice_type\": \"d6\",\n",
        "        \"advantages\": [\"Mechanical Genius\", \"Tinkering Master\", \"Stealth Movement\"]\n",
        "    },\n",
        "    \"The Muscle\": {\n",
        "        \"dice_type\": \"d8\",\n",
        "        \"advantages\": [\"Strength Boost\", \"Intimidation\", \"Heavy Lifting\"]\n",
        "    },\n",
        "    \"The High Roller\": {\n",
        "        \"dice_type\": \"d10\",\n",
        "        \"advantages\": [\"Luck Manipulation\", \"Charisma Boost\", \"Negotiation Skills\"]\n",
        "    }\n",
        "}\n",
        "\n",
        "def random_role():\n",
        "    role, details = random.choice(list(roles.items()))\n",
        "    dice_type = details[\"dice_type\"]\n",
        "    advantages = details[\"advantages\"]\n",
        "    return role, dice_type, advantages\n",
        "\n",
        "def generate_character_name():\n",
        "    random_first_name = random.choice(bird_first_names)\n",
        "    random_last_name = random.choice(bird_last_names)\n",
        "    return random_first_name + \" \" + random_last_name\n",
        "# this is to create a random name that isn't the same as the previous cells that kept happening\n",
        "character_name = generate_character_name()\n",
        "print(f'Your name is {character_name}')\n",
        "print('-------------------------')\n",
        "\n",
        "role, dice_type, advantages = random_role()\n",
        "print(f\"Role: {role}, ({dice_type})\")\n",
        "print(\"Advantages:\")\n",
        "for advantage in advantages:\n",
        "    print(f\"- {advantage}\") #gives it in list order\n",
        "\n",
        "    #I used chat gpt to help figure out how to format it the way I wanted and for creating the advantages"
      ],
      "metadata": {
        "id": "z_Zpj8mttAfG",
        "outputId": "dcf9d516-bced-4a37-c4ff-32323ebcf7f7",
        "colab": {
          "base_uri": "https://localhost:8080/"
        }
      },
      "id": "z_Zpj8mttAfG",
      "execution_count": 293,
      "outputs": [
        {
          "output_type": "stream",
          "name": "stdout",
          "text": [
            "\n",
            "Player 1\n",
            "----------\n",
            "\n",
            "Your name is Glimmerbeak Stormwing\n",
            "-------------------------\n",
            "Role: The Pro, (d4)\n",
            "Advantages:\n",
            "- Quick Reflexes\n",
            "- Enhanced Perception\n",
            "- Stealth Mastery\n"
          ]
        }
      ]
    },
    {
      "cell_type": "markdown",
      "id": "a6aea256-0e02-4006-a992-a340b217b233",
      "metadata": {
        "id": "a6aea256-0e02-4006-a992-a340b217b233"
      },
      "source": [
        "## IV. Dice Roller"
      ]
    },
    {
      "cell_type": "code",
      "execution_count": null,
      "id": "9e3959b7-ffef-4c12-87a7-6c7905a573ed",
      "metadata": {
        "id": "9e3959b7-ffef-4c12-87a7-6c7905a573ed"
      },
      "outputs": [],
      "source": [
        "# this is where you should place all cells that contain code or markdown\n",
        "# having to do with creating your dice roller\n"
      ]
    },
    {
      "cell_type": "code",
      "execution_count": null,
      "id": "55cec440-a9c2-41e2-b318-11ed2185046b",
      "metadata": {
        "id": "55cec440-a9c2-41e2-b318-11ed2185046b",
        "outputId": "7b43256a-a619-41ec-f143-671fad48e4bb",
        "colab": {
          "base_uri": "https://localhost:8080/"
        }
      },
      "outputs": [
        {
          "output_type": "execute_result",
          "data": {
            "text/plain": [
              "6"
            ]
          },
          "metadata": {},
          "execution_count": 1
        }
      ],
      "source": [
        "import random # imports the random library (only do this once in your notebook!)\n",
        "\n",
        "# dice set dictionary\n",
        "dice_set = {\n",
        "    'd4' : 4,\n",
        "    'd6' : 6,\n",
        "    'd8' : 8,\n",
        "    'd10' : 10,\n",
        "}\n",
        "\n",
        "dice_type = 'd6'\n",
        "\n",
        "random.randint(1, dice_set[dice_type])"
      ]
    },
    {
      "cell_type": "code",
      "execution_count": 330,
      "id": "81791bf9-0cad-47be-9067-b820fad2b5fe",
      "metadata": {
        "id": "81791bf9-0cad-47be-9067-b820fad2b5fe"
      },
      "outputs": [],
      "source": [
        "def roll_dice(dice_type):\n",
        "  dice_set = {\n",
        "    'd4' : 4,\n",
        "    'd6' : 6,\n",
        "    'd8' : 8,\n",
        "    'd10' : 10,\n",
        "}\n",
        "\n",
        "\n",
        "  roll = random.randint(1, dice_set[dice_type])\n",
        "  return roll\n",
        "\n"
      ]
    },
    {
      "cell_type": "code",
      "execution_count": 333,
      "id": "8b6f8abc-901b-49a5-bdc0-0a65ac93a77e",
      "metadata": {
        "id": "8b6f8abc-901b-49a5-bdc0-0a65ac93a77e",
        "outputId": "b493153e-93dd-41fe-e7e0-7152bcd24482",
        "colab": {
          "base_uri": "https://localhost:8080/"
        }
      },
      "outputs": [
        {
          "output_type": "stream",
          "name": "stdout",
          "text": [
            "You rolled a  3\n",
            "You rolled a  6\n",
            "You rolled a  8\n",
            "You rolled a  9\n"
          ]
        }
      ],
      "source": [
        "print('You rolled a ', roll_dice('d4'))\n",
        "print('You rolled a ', roll_dice('d6'))\n",
        "print('You rolled a ', roll_dice('d8'))\n",
        "print('You rolled a ', roll_dice('d10'))"
      ]
    },
    {
      "cell_type": "code",
      "source": [
        "import random\n",
        "\n",
        "def roll_dice(dice_type):\n",
        "    dice_set = {\n",
        "        'd4': 4,\n",
        "        'd6': 6,\n",
        "        'd8': 8,\n",
        "        'd10': 10,\n",
        "    }\n",
        "\n",
        "    roll = random.randint(1, dice_set[dice_type])\n",
        "\n",
        "    # Define the outcomes based on the dice roll\n",
        "    if dice_type == 'd4':\n",
        "        print('You are rolling for Brains')\n",
        "        if roll == 1:\n",
        "            outcome = \"Unsuccesful Roll\"\n",
        "        elif roll == 4:\n",
        "            outcome = \"Unsuccesful Roll\"\n",
        "        else:\n",
        "            outcome = \"Succesfull Roll!!\"\n",
        "\n",
        "    elif dice_type == 'd6':\n",
        "        print('You are rolling for Wings Action')\n",
        "        if roll == 2:\n",
        "            outcome = \"Unsuccesful Roll\"\n",
        "        elif roll == 3:\n",
        "            outcome = \"Succesful Roll!!\"\n",
        "        elif roll == 4:\n",
        "            outcome = \"Succesful Roll!!\"\n",
        "        elif roll == 5:\n",
        "            outcome = \"Succesful Roll!!\"\n",
        "\n",
        "        else:\n",
        "            outcome = \"Unsuccesful Roll :(\"\n",
        "\n",
        "    elif dice_type == 'd8':\n",
        "        print('You are rolling for Talons Action')\n",
        "        if roll == 4:\n",
        "            outcome = \"Succesful Roll!\"\n",
        "        elif roll == 5:\n",
        "            outcome = \"Succesful Roll!\"\n",
        "        elif roll == 6:\n",
        "            outcome = \"Succesful Roll!\"\n",
        "        elif roll == 7:\n",
        "            outcome = \"Succesful Roll!\"\n",
        "        else:\n",
        "            outcome = \"Unsuccesful Roll :(\"\n",
        "\n",
        "    elif dice_type == 'd10':\n",
        "        print('You are rolling for Feathers Action')\n",
        "        if roll == 5:\n",
        "            outcome = \"Succesful Roll!\"\n",
        "        elif roll == 6:\n",
        "            outcome = \"Succesful Roll!\"\n",
        "        elif roll == 7:\n",
        "            outcome = \"Succesful Roll!\"\n",
        "        elif roll == 8:\n",
        "            outcome = \"Succesful Roll!\"\n",
        "        elif roll == 9:\n",
        "            outcome = \"Succesful Roll!\"\n",
        "        else:\n",
        "            outcome = \"Unsuccessful Roll :(\"\n",
        "\n",
        "    return roll, outcome\n",
        "\n",
        "#I later used chat gpt to find a new way and simplier way to set this up\n",
        "\n",
        "def choose_dice():\n",
        "    # Ask user for their dice choice\n",
        "    valid_dice = ['d4', 'd6', 'd8', 'd10']\n",
        "    dice_choice = input(\"Choose a dice to roll (d4, d6, d8, d10): \").strip().lower()\n",
        "\n",
        "    # Check if the input is valid, otherwise prompt again\n",
        "    while dice_choice not in valid_dice:\n",
        "        print(\"Invalid choice. Please choose from d4, d6, d8, or d10.\")\n",
        "        dice_choice = input(\"Choose a dice to roll (d4, d6, d8, d10): \").strip().lower()\n",
        "\n",
        "    return dice_choice\n",
        "\n",
        "\n",
        "\n",
        "# Example usage:\n",
        "dice_type = choose_dice()  # Get the dice choice from the user\n",
        "roll, outcome = roll_dice(dice_type)\n",
        "print(f\"Rolled a {dice_type}: {roll}\")\n",
        "print(f\"Outcome: {outcome}\")"
      ],
      "metadata": {
        "id": "kYkRUv-lyrfs",
        "outputId": "daa9d5a7-29a4-42af-d5d0-9475b986e660",
        "colab": {
          "base_uri": "https://localhost:8080/"
        }
      },
      "id": "kYkRUv-lyrfs",
      "execution_count": 373,
      "outputs": [
        {
          "output_type": "stream",
          "name": "stdout",
          "text": [
            "Choose a dice to roll (d4, d6, d8, d10): d10\n",
            "You are rolling for Feathers Action\n",
            "Rolled a d10: 9\n",
            "Outcome: Succesful Roll!\n"
          ]
        }
      ]
    },
    {
      "cell_type": "markdown",
      "id": "e90654de-67e9-4d4e-a546-6a872c753007",
      "metadata": {
        "id": "e90654de-67e9-4d4e-a546-6a872c753007"
      },
      "source": [
        "# V. Running a Game"
      ]
    },
    {
      "cell_type": "code",
      "execution_count": 87,
      "id": "20ba0ff0-1df7-4962-8155-9be2df26a967",
      "metadata": {
        "id": "20ba0ff0-1df7-4962-8155-9be2df26a967"
      },
      "outputs": [],
      "source": [
        "# this is where you should place all cells that contain code or markdown\n",
        "# having to do with starting a mock game\n",
        "\n",
        "# Generate at least 2 character sheets\n",
        "# Generate at least 1 quest\n",
        "# Roll at least 3 times testing differetnt die and conditions"
      ]
    },
    {
      "cell_type": "code",
      "source": [
        "import random\n",
        "\n",
        "# # Define bird first and last names\n",
        "\n",
        "bird_first_names = ['Featherclaw', 'Talona', 'Skystrike', 'Perchblade', 'Winglock', 'Ashwings', 'Quickflight', 'Stormfeather', 'Hawkstrike', 'Windshadow',\n",
        "    'Cloudsong', 'Ravenwing', 'Glimmerbeak', 'Swiftflap', 'Frostwing','Emberfeather', 'Thundershadow', 'Darkflap', 'Mistwing', 'Cinderclaw']\n",
        "bird_last_names = ['Ravenhart', 'Stormwing', 'Ironbeak', 'Shadowfeather', 'Blazetail', 'Nightwing', 'Ashbeak', 'Flameclaw', 'Darkstorm', 'Silverstrike',\n",
        "    'Windshard', 'Blacksong', 'Moonfeather', 'Shadowsworn', 'Ironfury', 'Emberclaw', 'Lightningbeak', 'Frostheart', 'Windwhisper', 'Ghostwing']\n",
        "\n",
        "# Roles for each player\n",
        "roles = {\n",
        "    \"The Pro\": {\n",
        "        \"dice_type\": \"d4\",\n",
        "        \"advantages\": [\"Quick Reflexes\", \"Enhanced Perception\", \"Stealth Mastery\"]\n",
        "    },\n",
        "    \"The Grease Man\": {\n",
        "        \"dice_type\": \"d6\",\n",
        "        \"advantages\": [\"Mechanical Genius\", \"Tinkering Master\", \"Stealth Movement\"]\n",
        "    },\n",
        "    \"The Muscle\": {\n",
        "        \"dice_type\": \"d8\",\n",
        "        \"advantages\": [\"Strength Boost\", \"Intimidation\", \"Heavy Lifting\"]\n",
        "    },\n",
        "    \"The High Roller\": {\n",
        "        \"dice_type\": \"d10\",\n",
        "        \"advantages\": [\"Luck Manipulation\", \"Charisma Boost\", \"Negotiation Skills\"]\n",
        "    }\n",
        "}\n",
        "# No ai used for the code above\n",
        "\n",
        "# Function to generate a random name\n",
        "def generate_character_name():\n",
        "    random_first_name = random.choice(bird_first_names)\n",
        "    random_last_name = random.choice(bird_last_names)\n",
        "    return random_first_name + \" \" + random_last_name\n",
        "\n",
        "# Function to randomly assign a role to the player\n",
        "def random_role():\n",
        "    role, details = random.choice(list(roles.items()))\n",
        "    dice_type = details[\"dice_type\"]\n",
        "    advantages = details[\"advantages\"]\n",
        "    return role, dice_type, advantages\n",
        "\n",
        "# Function to roll the dice and get the outcome\n",
        "def roll_dice(dice_type):\n",
        "    dice_set = {\n",
        "        'd4': 4,\n",
        "        'd6': 6,\n",
        "        'd8': 8,\n",
        "        'd10': 10,\n",
        "    }\n",
        "# ai used to help define advantages and dice type\n",
        "    roll = random.randint(1, dice_set[dice_type])\n",
        "\n",
        "    if dice_type == 'd4':\n",
        "        outcome = \"Successful Roll!!\" if roll in [2, 3] else \"Unsuccessful Roll\"\n",
        "\n",
        "    elif dice_type == 'd6':\n",
        "        outcome = \"Successful Roll!!\" if roll in [3, 4, 5] else \"Unsuccessful Roll\"\n",
        "\n",
        "    elif dice_type == 'd8':\n",
        "        outcome = \"Successful Roll!\" if roll in [4, 5, 6, 7] else \"Unsuccessful Roll\"\n",
        "\n",
        "    elif dice_type == 'd10':\n",
        "        outcome = \"Successful Roll!\" if roll in [5, 6, 7, 8, 9] else \"Unsuccessful Roll\"\n",
        "\n",
        "    return roll, outcome\n",
        "# the code above was done on my own other than learning how to simplify the dice roll options\n",
        "# Function to choose dice (with input validation)\n",
        "def choose_dice():\n",
        "    valid_dice = ['d4', 'd6', 'd8', 'd10']\n",
        "    dice_choice = input(\"Choose a dice to roll (d4, d6, d8, d10): \").strip().lower()\n",
        "\n",
        "    while dice_choice not in valid_dice:\n",
        "        print(\"Invalid choice. Please choose from d4, d6, d8, or d10.\")\n",
        "        dice_choice = input(\"Choose a dice to roll (d4, d6, d8, d10): \").strip().lower()\n",
        "\n",
        "    return dice_choice\n",
        "# i used ai for the code above\n",
        "# Function to manage the game with multiple players\n",
        "\n",
        "import random\n",
        "\n",
        "objectives = ['steal farm supplies', 'loot the bird seeds', 'rob the farm owner', 'steal shiny objects', 'steal money', 'swipe valuable equipment']\n",
        "locations = ['ranch', 'farmland', 'chicken coop', 'house', 'truck', 'barn','grain silo', 'garden shed',]\n",
        "obstacles = ['dangerous farm owners','lazer traps', 'security cameras', 'watch dogs', 'decoys', 'electric fences', 'barbed wire']\n",
        "rewards = ['bird food', 'yoour initiation', 'a new birdhouse', '$100,000', '10,000 xp', 'new wing accessories']\n",
        "\n",
        "# Function to generate a random quest\n",
        "def generate_quest():\n",
        "    objective = random.choice(objectives)\n",
        "    location = random.choice(locations)\n",
        "    obstacle = random.choice(obstacles)\n",
        "    reward = random.choice(rewards)\n",
        "\n",
        "    quest = f\"Your mission today is to {objective} from the {location}, but there are {obstacle}. If successful, you will receive {reward}.\"\n",
        "    return quest\n",
        "\n",
        "# Example of calling the function\n",
        "quest = generate_quest()\n",
        "print(quest)\n",
        "\n",
        "def multiplayer_game():\n",
        "    # Ask for number of players\n",
        "    num_players = int(input(\"How many players are playing? \"))\n",
        "    players = []\n",
        "\n",
        "    # Create players\n",
        "    for i in range(num_players):\n",
        "        character_name = generate_character_name()\n",
        "        role, dice_type, advantages = random_role()\n",
        "        players.append({\n",
        "            \"name\": character_name,\n",
        "            \"role\": role,\n",
        "            \"dice_type\": dice_type,\n",
        "            \"advantages\": advantages\n",
        "        })\n",
        "    # I used ai to assist with how to set up the code above\n",
        "    # Print player details\n",
        "    for player in players:\n",
        "        print(f'{player[\"name\"]} ({player[\"role\"]}):')\n",
        "        print(f\"- Dice: {player['dice_type']}\")\n",
        "        print(f\"Advantages: {', '.join(player['advantages'])}\")\n",
        "        print('---------------------------')\n",
        "        # I used ai to assist with how to set up the code above\n",
        "\n",
        "    # This will loop the turns, 3 turns each player then will end game\n",
        "    for turn in range(1, 4):  # 5 turns for example\n",
        "        print(f\"--- Turn {turn} ---\")\n",
        "        for player in players:\n",
        "            print(f\"{player['name']}'s turn!\")\n",
        "            print(f\"Role: {player['role']} ({player['dice_type']})\")\n",
        "            dice_choice = choose_dice()\n",
        "            roll, outcome = roll_dice(dice_choice)\n",
        "            print(f\"Rolled a {dice_choice}: {roll}\")\n",
        "            print(f\"Outcome: {outcome}\")\n",
        "        print(\"\\n--- End of Turn ---\")\n",
        "        # the \\n adds a line of space\n",
        "    print(\"\\nGame Over!\")\n",
        "    # I used ai to assist with how to set up the code above\n",
        "\n",
        "# Start the game\n",
        "multiplayer_game()"
      ],
      "metadata": {
        "id": "r1XJNwtA69Nj",
        "outputId": "c1d8cc57-f1dd-44dd-ec90-2dd51a67f7f7",
        "colab": {
          "base_uri": "https://localhost:8080/"
        }
      },
      "id": "r1XJNwtA69Nj",
      "execution_count": 432,
      "outputs": [
        {
          "output_type": "stream",
          "name": "stdout",
          "text": [
            "Your mission today is to steal farm supplies from the house, but there are decoys. If successful, you will receive $100,000.\n",
            "How many players are playing? 1\n",
            "Thundershadow Stormwing (The Grease Man):\n",
            "- Dice: d6\n",
            "Advantages: Mechanical Genius, Tinkering Master, Stealth Movement\n",
            "---------------------------\n",
            "--- Turn 1 ---\n",
            "Thundershadow Stormwing's turn!\n",
            "Role: The Grease Man (d6)\n",
            "Choose a dice to roll (d4, d6, d8, d10): d6\n",
            "Rolled a d6: 5\n",
            "Outcome: Successful Roll!!\n",
            "\n",
            "--- End of Turn ---\n",
            "--- Turn 2 ---\n",
            "Thundershadow Stormwing's turn!\n",
            "Role: The Grease Man (d6)\n",
            "Choose a dice to roll (d4, d6, d8, d10): d6\n",
            "Rolled a d6: 4\n",
            "Outcome: Successful Roll!!\n",
            "\n",
            "--- End of Turn ---\n",
            "--- Turn 3 ---\n",
            "Thundershadow Stormwing's turn!\n",
            "Role: The Grease Man (d6)\n",
            "Choose a dice to roll (d4, d6, d8, d10): d6\n",
            "Rolled a d6: 1\n",
            "Outcome: Unsuccessful Roll\n",
            "\n",
            "--- End of Turn ---\n",
            "\n",
            "Game Over!\n"
          ]
        }
      ]
    },
    {
      "cell_type": "markdown",
      "id": "0c74c90c-e726-4fd3-8322-50cbb1f71124",
      "metadata": {
        "id": "0c74c90c-e726-4fd3-8322-50cbb1f71124"
      },
      "source": [
        "## IV. Conclusions & Final Thoughts"
      ]
    },
    {
      "cell_type": "code",
      "execution_count": null,
      "id": "41f4bf2a-5451-4863-ad6f-ba69b5104f9d",
      "metadata": {
        "id": "41f4bf2a-5451-4863-ad6f-ba69b5104f9d"
      },
      "outputs": [],
      "source": [
        "# Obstacles or difficulties you had in working through the code\n",
        "# and how you overcame them (or why you did not)\n",
        "\n",
        "# What are some ways you could use the structures you create in this project\n",
        "# in tasks or projects you work on outside of this class? In teaching in general?\n",
        "\n",
        "# Discuss your use of generative AI in this project (or why you chose not to use it).\n",
        "# Did you find it helpful, not helpful? Why or why not?\n",
        "\n",
        "# Features you would like to add in the future if given more time or Python knowledge"
      ]
    }
  ],
  "metadata": {
    "kernelspec": {
      "display_name": "Python 3 (ipykernel)",
      "language": "python",
      "name": "python3"
    },
    "language_info": {
      "codemirror_mode": {
        "name": "ipython",
        "version": 3
      },
      "file_extension": ".py",
      "mimetype": "text/x-python",
      "name": "python",
      "nbconvert_exporter": "python",
      "pygments_lexer": "ipython3",
      "version": "3.10.13"
    },
    "colab": {
      "provenance": []
    }
  },
  "nbformat": 4,
  "nbformat_minor": 5
}